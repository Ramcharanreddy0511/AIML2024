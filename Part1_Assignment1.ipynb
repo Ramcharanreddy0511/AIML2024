{
  "nbformat": 4,
  "nbformat_minor": 0,
  "metadata": {
    "colab": {
      "provenance": []
    },
    "kernelspec": {
      "name": "python3",
      "display_name": "Python 3"
    },
    "language_info": {
      "name": "python"
    }
  },
  "cells": [
    {
      "cell_type": "markdown",
      "source": [
        "Implementation of basic data structures using numpy and pandas"
      ],
      "metadata": {
        "id": "6f2Cu_CNmZMx"
      }
    },
    {
      "cell_type": "code",
      "execution_count": null,
      "metadata": {
        "colab": {
          "base_uri": "https://localhost:8080/"
        },
        "id": "ADjaGEAXmUKa",
        "outputId": "20277147-30bb-4eae-b572-3e545c07d62b"
      },
      "outputs": [
        {
          "output_type": "stream",
          "name": "stdout",
          "text": [
            "The list is  [10, 11, 12, 13, 114, 15]\n"
          ]
        }
      ],
      "source": [
        "#creation list using array\n",
        "import numpy as np\n",
        "lst1=[10,11,12,13,114,15]\n",
        "print('The list is ',lst1)"
      ]
    },
    {
      "cell_type": "code",
      "source": [
        "#Creation of array using numpy\n",
        "import numpy as np\n",
        "lst1=[10,111,12,13,14,156]\n",
        "arr1=np.array(lst1)\n",
        "arr2=np.array([1,2,3,4,5,6])\n",
        "print('The first array is ',arr1)\n",
        "print('The second array is ',arr2)"
      ],
      "metadata": {
        "colab": {
          "base_uri": "https://localhost:8080/"
        },
        "id": "rXkFv7G1nDQY",
        "outputId": "697bceb5-b00f-4077-f974-99f5327d0c78"
      },
      "execution_count": null,
      "outputs": [
        {
          "output_type": "stream",
          "name": "stdout",
          "text": [
            "The first array is  [ 10 111  12  13  14 156]\n",
            "The second array is  [1 2 3 4 5 6]\n"
          ]
        }
      ]
    },
    {
      "cell_type": "code",
      "source": [
        "#Verification of type of list and array\n",
        "import numpy as np\n",
        "lst1=[12,13,1,4,15,16]\n",
        "array=np.array(lst1)\n",
        "print(type(lst1))\n",
        "print(type(array))"
      ],
      "metadata": {
        "colab": {
          "base_uri": "https://localhost:8080/"
        },
        "id": "kVZkclEkoG70",
        "outputId": "eb859260-281a-4bc2-8416-8738097815c8"
      },
      "execution_count": null,
      "outputs": [
        {
          "output_type": "stream",
          "name": "stdout",
          "text": [
            "<class 'list'>\n",
            "<class 'numpy.ndarray'>\n"
          ]
        }
      ]
    },
    {
      "cell_type": "code",
      "source": [
        "#Implemention of mathematical operations of arrays\n",
        "import numpy as np\n",
        "arr1=np.array([10,11,12,13,14,15])\n",
        "arr2=np.array([100,200,300,400,500,600])\n",
        "arr3 = arr1*arr2\n",
        "arr4 = arr1/arr2\n",
        "arr5 = arr2**arr1\n",
        "arr6 = arr1**arr2\n",
        "print('The product array is ',arr3)\n",
        "print('The division array is ',arr4)\n",
        "print('The power off array is ',arr5)\n",
        "print('The another power off array is ',arr6)"
      ],
      "metadata": {
        "colab": {
          "base_uri": "https://localhost:8080/"
        },
        "id": "bj3xqhJCpV51",
        "outputId": "5aa93462-ccc8-4707-a801-8901b4f7928a"
      },
      "execution_count": null,
      "outputs": [
        {
          "output_type": "stream",
          "name": "stdout",
          "text": [
            "The product array is  [1000 2200 3600 5200 7000 9000]\n",
            "The division array is  [0.1    0.055  0.04   0.0325 0.028  0.025 ]\n",
            "The power off array is  [ 7766279631452241920   454253960476229632  7257836327071121408\n",
            "  5444851949490929664  8958380283753660416 -5713836474110050304]\n",
            "The another power off array is  [                   0 -5759996431746818975                    0\n",
            " -1173800453883803071                    0 -3872214443626246527]\n"
          ]
        }
      ]
    },
    {
      "cell_type": "code",
      "source": [
        "#Implemention of Addition between two arrays\n",
        "import numpy as np\n",
        "arr1=np.array([10,20,30,40,50])\n",
        "arr2=np.array([15,25,35,45,55])\n",
        "arr3 = arr1+arr2\n",
        "print('The Sum of arrays is ',arr3)"
      ],
      "metadata": {
        "colab": {
          "base_uri": "https://localhost:8080/"
        },
        "id": "ShEZfk_bsrRf",
        "outputId": "cee307bb-0671-4db1-d312-0573f80c0f6c"
      },
      "execution_count": null,
      "outputs": [
        {
          "output_type": "stream",
          "name": "stdout",
          "text": [
            "The Sum of arrays is  [ 25  45  65  85 105]\n"
          ]
        }
      ]
    },
    {
      "cell_type": "code",
      "source": [
        "#Demonstration of entire age list of a factory employee\n",
        "import numpy as np\n",
        "employee=np.array([25,70,64,35,30,36,50,28,59,48,44,57,60,40,41,32,29,51,38,54])\n",
        "senior = employee[employee >= 60]\n",
        "junior = employee[employee < 60]\n",
        "print('Senior employee list : ',senior)\n",
        "print('Junior employee list : ',junior)"
      ],
      "metadata": {
        "colab": {
          "base_uri": "https://localhost:8080/"
        },
        "id": "9MzKvqV5tw_q",
        "outputId": "2bcee568-2213-4553-c1da-517e0b0ce24a"
      },
      "execution_count": null,
      "outputs": [
        {
          "output_type": "stream",
          "name": "stdout",
          "text": [
            "Senior employee list :  [70 64 60]\n",
            "Junior employee list :  [25 35 30 36 50 28 59 48 44 57 40 41 32 29 51 38 54]\n"
          ]
        }
      ]
    },
    {
      "cell_type": "code",
      "source": [
        "#Demostration of Sin, Cos, Tan, log, exp, log2\n",
        "import numpy as np\n",
        "lst = [10,20,30,40,50]\n",
        "arr1 = np.array(lst)\n",
        "arr2 = np.sin(arr1)\n",
        "arr3 = np.cos(arr1)\n",
        "arr4 = np.tan(arr1)\n",
        "arr5 = np.log(arr1)\n",
        "arr6 = np.log2(arr1)\n",
        "arr7 = np.exp(arr1)\n",
        "print('The sin array is ',arr2)\n",
        "print('The cos array is ',arr3)\n",
        "print('The tan array is ',arr4)\n",
        "print('The logarithmic array is ',arr5)\n",
        "print('The log2 array is ',arr6)\n",
        "print('The exp array is ',arr7)"
      ],
      "metadata": {
        "colab": {
          "base_uri": "https://localhost:8080/"
        },
        "id": "H2o-9xkLyeke",
        "outputId": "c0c506c0-96b8-408f-b793-86270df665c9"
      },
      "execution_count": null,
      "outputs": [
        {
          "output_type": "stream",
          "name": "stdout",
          "text": [
            "The sin array is  [-0.54402111  0.91294525 -0.98803162  0.74511316 -0.26237485]\n",
            "The cos array is  [-0.83907153  0.40808206  0.15425145 -0.66693806  0.96496603]\n",
            "The tan array is  [ 0.64836083  2.23716094 -6.4053312  -1.11721493 -0.27190061]\n",
            "The logarithmic array is  [2.30258509 2.99573227 3.40119738 3.68887945 3.91202301]\n",
            "The log2 array is  [3.32192809 4.32192809 4.9068906  5.32192809 5.64385619]\n",
            "The exp array is  [2.20264658e+04 4.85165195e+08 1.06864746e+13 2.35385267e+17\n",
            " 5.18470553e+21]\n"
          ]
        }
      ]
    }
  ]
}